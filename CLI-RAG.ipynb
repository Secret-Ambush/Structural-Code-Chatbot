{
 "cells": [
  {
   "cell_type": "code",
   "execution_count": 2,
   "metadata": {},
   "outputs": [],
   "source": [
    "!pip install -q sentence-transformers faiss-cpu PyMuPDF transformers openai tqdm --quiet"
   ]
  },
  {
   "cell_type": "code",
   "execution_count": 3,
   "metadata": {},
   "outputs": [],
   "source": [
    "import os\n",
    "import fitz  # PyMuPDF\n",
    "import faiss\n",
    "import openai\n",
    "import torch\n",
    "import numpy as np\n",
    "from tqdm import tqdm\n",
    "from sentence_transformers import SentenceTransformer\n",
    "from transformers import pipeline"
   ]
  },
  {
   "cell_type": "code",
   "execution_count": 4,
   "metadata": {},
   "outputs": [],
   "source": [
    "def load_pdfs(folder_path):\n",
    "    documents = []\n",
    "    for filename in os.listdir(folder_path):\n",
    "        if filename.endswith(\".pdf\"):\n",
    "            doc = fitz.open(os.path.join(folder_path, filename))\n",
    "            text = \"\\n\".join(page.get_text() for page in doc)\n",
    "            documents.append(text)\n",
    "    return documents\n"
   ]
  },
  {
   "cell_type": "code",
   "execution_count": 5,
   "metadata": {},
   "outputs": [],
   "source": [
    "def split_into_chunks(documents, chunk_size=500):\n",
    "    chunks = []\n",
    "    for doc in documents:\n",
    "        words = doc.split()\n",
    "        for i in range(0, len(words), chunk_size):\n",
    "            chunk = \" \".join(words[i:i+chunk_size])\n",
    "            chunks.append(chunk)\n",
    "    return chunks"
   ]
  },
  {
   "cell_type": "code",
   "execution_count": 6,
   "metadata": {},
   "outputs": [],
   "source": [
    "embedder = SentenceTransformer('all-MiniLM-L6-v2')\n",
    "\n",
    "def embed_chunks(chunks, batch_size=32):\n",
    "    embeddings = []\n",
    "    for i in tqdm(range(0, len(chunks), batch_size), desc=\"Embedding chunks\"):\n",
    "        batch = chunks[i:i+batch_size]\n",
    "        batch_embeddings = embedder.encode(batch, show_progress_bar=False)\n",
    "        embeddings.append(batch_embeddings)\n",
    "    return np.vstack(embeddings)"
   ]
  },
  {
   "cell_type": "code",
   "execution_count": 7,
   "metadata": {},
   "outputs": [],
   "source": [
    "def store_in_faiss(embeddings, chunks):\n",
    "    dimension = embeddings.shape[1]\n",
    "    index = faiss.IndexFlatL2(dimension)\n",
    "    index.add(embeddings)\n",
    "    return index"
   ]
  },
  {
   "cell_type": "code",
   "execution_count": 8,
   "metadata": {},
   "outputs": [],
   "source": [
    "def retrieve_relevant_chunks(query, index, chunks, top_k=5):\n",
    "    query_embedding = embedder.encode([query])\n",
    "    distances, indices = index.search(np.array(query_embedding), top_k)\n",
    "    return [chunks[i] for i in indices[0]]"
   ]
  },
  {
   "cell_type": "code",
   "execution_count": 9,
   "metadata": {},
   "outputs": [
    {
     "name": "stderr",
     "output_type": "stream",
     "text": [
      "Device set to use cpu\n"
     ]
    }
   ],
   "source": [
    "local_model = pipeline(\"text2text-generation\", model=\"google/flan-t5-base\", device=0 if torch.cuda.is_available() else -1)\n",
    "\n",
    "# OpenAI API Key (optional)\n",
    "OPENAI_API_KEY = os.getenv(\"OPENAI_API_KEY\")\n",
    "if OPENAI_API_KEY:\n",
    "    openai.api_key = OPENAI_API_KEY"
   ]
  },
  {
   "cell_type": "code",
   "execution_count": 10,
   "metadata": {},
   "outputs": [],
   "source": [
    "def call_local_llm(prompt):\n",
    "    output = local_model(prompt, max_length=512)[0]['generated_text']\n",
    "    return output"
   ]
  },
  {
   "cell_type": "code",
   "execution_count": 11,
   "metadata": {},
   "outputs": [],
   "source": [
    "def call_openai_llm(prompt):\n",
    "    response = openai.ChatCompletion.create(\n",
    "        model=\"gpt-4\",\n",
    "        messages=[{\"role\": \"user\", \"content\": prompt}]\n",
    "    )\n",
    "    return response['choices'][0]['message']['content']"
   ]
  },
  {
   "cell_type": "code",
   "execution_count": null,
   "metadata": {},
   "outputs": [],
   "source": [
    "folder_path = \"data\"\n",
    "\n",
    "print(\"Loading documents...\")\n",
    "documents = load_pdfs(folder_path)\n",
    "chunks = split_into_chunks(documents, chunk_size=1000)\n",
    "embeddings = embed_chunks(chunks, batch_size=32)\n",
    "faiss_index = store_in_faiss(embeddings, chunks)\n",
    "\n",
    "print(\"\\nWelcome to Structural Engineering Help Tool! \\U0001f3d7\\ufe0f\")\n",
    "\n",
    "while True:\n",
    "    query = input(\"\\nEnter your structural engineering question (or type 'exit'): \")\n",
    "    if query.lower() == 'exit':\n",
    "        break\n",
    "\n",
    "    relevant_chunks = retrieve_relevant_chunks(query, faiss_index, chunks)\n",
    "    context = \"\\n\".join(relevant_chunks)\n",
    "    augmented_prompt = f\"\"\"\n",
    "You are a structural engineering assistant.\n",
    "Use the following context to answer the question:\n",
    "\n",
    "{context}\n",
    "\n",
    "Question: {query}\n",
    "Answer:\n",
    "\"\"\"\n",
    "    \n",
    "    print(\"\\nAnswering...\\n\")\n",
    "    \n",
    "    # Choose local or OpenAI model\n",
    "    if OPENAI_API_KEY:\n",
    "        answer = call_openai_llm(augmented_prompt)\n",
    "    else:\n",
    "        answer = call_local_llm(augmented_prompt)\n",
    "\n",
    "    print(answer)\n",
    "\n",
    "print(\"Goodbye!\")\n"
   ]
  },
  {
   "cell_type": "code",
   "execution_count": null,
   "metadata": {},
   "outputs": [],
   "source": []
  }
 ],
 "metadata": {
  "kernelspec": {
   "display_name": "base",
   "language": "python",
   "name": "python3"
  },
  "language_info": {
   "codemirror_mode": {
    "name": "ipython",
    "version": 3
   },
   "file_extension": ".py",
   "mimetype": "text/x-python",
   "name": "python",
   "nbconvert_exporter": "python",
   "pygments_lexer": "ipython3",
   "version": "3.9.13"
  }
 },
 "nbformat": 4,
 "nbformat_minor": 2
}
